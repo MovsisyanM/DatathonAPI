{
 "cells": [
  {
   "cell_type": "code",
   "execution_count": 20,
   "metadata": {},
   "outputs": [],
   "source": [
    "import numpy as np\n",
    "import pandas as pd\n",
    "import gspread\n",
    "from oauth2client.service_account import ServiceAccountCredentials\n",
    "from datetime import datetime\n",
    "from dateutil import tz\n",
    "from collections import defaultdict\n",
    "\n",
    "# use creds to create a client to interact with the Google Drive API\n",
    "scope = ['https://spreadsheets.google.com/feeds',\n",
    "        'https://www.googleapis.com/auth/drive']\n",
    "creds = ServiceAccountCredentials.from_json_keyfile_name('cms_key.json', scope)"
   ]
  },
  {
   "cell_type": "code",
   "execution_count": 11,
   "metadata": {},
   "outputs": [],
   "source": [
    "sheet_name = \"Content_datathon2023_scoreboard\"\n",
    "client = gspread.authorize(creds)\n",
    "\n",
    "# Find a workbook by name and open the first sheet\n",
    "wb = client.open(sheet_name)\n",
    "datasheet = wb.worksheet(\"submissions\")\n",
    "list_of_lists = datasheet.get_all_values()"
   ]
  },
  {
   "cell_type": "code",
   "execution_count": 16,
   "metadata": {},
   "outputs": [
    {
     "name": "stdout",
     "output_type": "stream",
     "text": [
      "        Team  Score                          Time\n",
      "0  Testers 2   55.2  2023-02-05 17:11:39 GMT+0400\n"
     ]
    },
    {
     "data": {
      "text/html": [
       "<div>\n",
       "<style scoped>\n",
       "    .dataframe tbody tr th:only-of-type {\n",
       "        vertical-align: middle;\n",
       "    }\n",
       "\n",
       "    .dataframe tbody tr th {\n",
       "        vertical-align: top;\n",
       "    }\n",
       "\n",
       "    .dataframe thead th {\n",
       "        text-align: right;\n",
       "    }\n",
       "</style>\n",
       "<table border=\"1\" class=\"dataframe\">\n",
       "  <thead>\n",
       "    <tr style=\"text-align: right;\">\n",
       "      <th></th>\n",
       "      <th>Team</th>\n",
       "      <th>Score</th>\n",
       "      <th>Time</th>\n",
       "    </tr>\n",
       "  </thead>\n",
       "  <tbody>\n",
       "    <tr>\n",
       "      <th>0</th>\n",
       "      <td>Testers 2</td>\n",
       "      <td>55.2</td>\n",
       "      <td>2023-02-05 17:11:39 GMT+0400</td>\n",
       "    </tr>\n",
       "  </tbody>\n",
       "</table>\n",
       "</div>"
      ],
      "text/plain": [
       "        Team  Score                          Time\n",
       "0  Testers 2   55.2  2023-02-05 17:11:39 GMT+0400"
      ]
     },
     "execution_count": 16,
     "metadata": {},
     "output_type": "execute_result"
    }
   ],
   "source": [
    "team = \"Testers 2\"\n",
    "score = 55.2\n",
    "այժմ = datetime.now().astimezone(tz.gettz(\"Asia/Yerevan\")).strftime(\"%Y-%m-%d %H:%M:%S\")\n",
    "\n",
    "if len(list_of_lists) == 1:\n",
    "    list_of_lists.append([team, score, այժմ])\n",
    "    datasheet.update(list_of_lists)\n",
    "else:\n",
    "    dataframe = pd.DataFrame(datasheet.get_all_records())\n",
    "    dataframe = dataframe.append({\"Team\": team, \"Score\": score, \"Time\": այժմ}, ignore_index=True)\n",
    "    \n",
    "    team_max = dataframe.groupby(\"Team\").max(\"Score\").reset_index()\n",
    "    \n",
    "    dataframe = dataframe[dataframe[[\"Team\", \"Score\"]].isin(team_max).all(axis=1)]\n",
    "    dataframe = dataframe.sort_values(\"Score\", ascending=False)\n",
    "    \n",
    "    # datasheet.update([dataframe.columns.values.tolist()] + dataframe.values.tolist())\n",
    "    \n",
    "dataframe"
   ]
  },
  {
   "cell_type": "code",
   "execution_count": 15,
   "metadata": {},
   "outputs": [
    {
     "data": {
      "text/plain": [
       "0     True\n",
       "1    False\n",
       "dtype: bool"
      ]
     },
     "execution_count": 15,
     "metadata": {},
     "output_type": "execute_result"
    }
   ],
   "source": [
    "dataframe[[\"Team\", \"Score\"]].isin(team_max).all(axis=1)"
   ]
  },
  {
   "cell_type": "code",
   "execution_count": null,
   "metadata": {},
   "outputs": [
    {
     "data": {
      "text/plain": [
       "{'Admins', 'Moderators'}"
      ]
     },
     "execution_count": 33,
     "metadata": {},
     "output_type": "execute_result"
    }
   ],
   "source": [
    "teamsheet = wb.worksheet(\"teams\")\n",
    "teams = set([i[0] for i in teamsheet.get_values(\"A2:A1000\")])\n",
    "teams"
   ]
  },
  {
   "cell_type": "code",
   "execution_count": 14,
   "metadata": {},
   "outputs": [
    {
     "data": {
      "text/html": [
       "<div>\n",
       "<style scoped>\n",
       "    .dataframe tbody tr th:only-of-type {\n",
       "        vertical-align: middle;\n",
       "    }\n",
       "\n",
       "    .dataframe tbody tr th {\n",
       "        vertical-align: top;\n",
       "    }\n",
       "\n",
       "    .dataframe thead th {\n",
       "        text-align: right;\n",
       "    }\n",
       "</style>\n",
       "<table border=\"1\" class=\"dataframe\">\n",
       "  <thead>\n",
       "    <tr style=\"text-align: right;\">\n",
       "      <th></th>\n",
       "      <th>Text</th>\n",
       "      <th>Label</th>\n",
       "    </tr>\n",
       "  </thead>\n",
       "  <tbody>\n",
       "    <tr>\n",
       "      <th>1395</th>\n",
       "      <td>Dessert is coming</td>\n",
       "      <td>0</td>\n",
       "    </tr>\n",
       "  </tbody>\n",
       "</table>\n",
       "</div>"
      ],
      "text/plain": [
       "                   Text  Label\n",
       "1395  Dessert is coming      0"
      ]
     },
     "execution_count": 14,
     "metadata": {},
     "output_type": "execute_result"
    }
   ],
   "source": [
    "dataframe[dataframe.Text == \"Dessert is coming\"]"
   ]
  },
  {
   "cell_type": "code",
   "execution_count": null,
   "metadata": {},
   "outputs": [],
   "source": [
    "dataframe.loc[scores_df.Team == team]"
   ]
  },
  {
   "cell_type": "code",
   "execution_count": 18,
   "metadata": {},
   "outputs": [
    {
     "data": {
      "text/plain": [
       "datetime.datetime(2023, 2, 5, 17, 48, 29, 387560, tzinfo=tzfile('Asia/Yerevan'))"
      ]
     },
     "execution_count": 18,
     "metadata": {},
     "output_type": "execute_result"
    }
   ],
   "source": [
    "AM_TZ = tz.gettz(\"Asia/Yerevan\")\n",
    "(այժմ := datetime.now().astimezone(AM_TZ))"
   ]
  },
  {
   "cell_type": "code",
   "execution_count": null,
   "metadata": {},
   "outputs": [],
   "source": [
    "# region Inits\n",
    "\n",
    "# filenames\n",
    "SCOREBOARD_DS_NAME = \"Content_datathon2023_scoreboard\"\n",
    "EVAL_DS_NAME = \"Eval_datathon2023\"\n",
    "EVAL_DF_PATH = \"data/eval_datathon2023.pkl\"\n",
    "PRIVATE_PATHS = \"private_paths\" # deleted later\n",
    "SCOREBOARD_PATH = \"data/scoreboard2023.pkl\"\n",
    "TEAMBOARD_PATH = \"data/teamboard2023.pkl\"\n",
    "CMS_KEY = \"cms_key.json\"\n",
    "\n",
    "\n",
    "# use creds to create a client to interact with the Google Drive API\n",
    "SCOPE = ['https://spreadsheets.google.com/feeds',\n",
    "        'https://www.googleapis.com/auth/drive']\n",
    "CREDS = ServiceAccountCredentials.from_json_keyfile_name(CMS_KEY, scope)\n",
    "\n",
    "AM_TZ = tz.gettz(\"Asia/Yerevan\")\n",
    "\n",
    "team_passwords = defaultdict(lambda: [])\n",
    "\n",
    "# setting non-public path for updating the dataset to \n",
    "# avoid google sheet api limit hits by other parties \n",
    "with open(PRIVATE_PATHS, \"r\") as f:\n",
    "    p_paths = f.readlines()\n",
    "del PRIVATE_PATHS\n",
    "\n",
    "#endregion Inits\n",
    "\n",
    "client = gspread.authorize(CREDS)\n",
    "wb = client.open(EVAL_DS_NAME)\n",
    "datasheet = wb.get_worksheet(0)\n",
    "dataframe = pd.DataFrame(datasheet.get_all_records())\n",
    "\n",
    "dataframe.to_pickle(EVAL_DF_PATH)\n",
    "dataframe;"
   ]
  },
  {
   "cell_type": "code",
   "execution_count": 33,
   "metadata": {},
   "outputs": [],
   "source": [
    "import json\n",
    "json.dumps({\"data\": dataframe.loc[250:350].X.to_list()});"
   ]
  },
  {
   "cell_type": "code",
   "execution_count": 55,
   "metadata": {},
   "outputs": [
    {
     "name": "stdout",
     "output_type": "stream",
     "text": [
      "I value your perspicacity and interest, but the task is not yet revealed.\n"
     ]
    },
    {
     "ename": "KeyError",
     "evalue": "'data'",
     "output_type": "error",
     "traceback": [
      "\u001b[1;31m---------------------------------------------------------------------------\u001b[0m",
      "\u001b[1;31mKeyError\u001b[0m                                  Traceback (most recent call last)",
      "\u001b[1;32mC:\\Users\\ZOLOBR~1\\AppData\\Local\\Temp/ipykernel_22016/4141938804.py\u001b[0m in \u001b[0;36m<module>\u001b[1;34m\u001b[0m\n\u001b[0;32m     32\u001b[0m \u001b[1;33m\u001b[0m\u001b[0m\n\u001b[0;32m     33\u001b[0m \u001b[0mprint\u001b[0m\u001b[1;33m(\u001b[0m\u001b[0mjson\u001b[0m\u001b[1;33m.\u001b[0m\u001b[0mloads\u001b[0m\u001b[1;33m(\u001b[0m\u001b[0mserve_data\u001b[0m\u001b[1;33m(\u001b[0m\u001b[1;33m)\u001b[0m\u001b[1;33m)\u001b[0m\u001b[1;33m[\u001b[0m\u001b[1;34m\"message\"\u001b[0m\u001b[1;33m]\u001b[0m\u001b[1;33m)\u001b[0m\u001b[1;33m\u001b[0m\u001b[1;33m\u001b[0m\u001b[0m\n\u001b[1;32m---> 34\u001b[1;33m \u001b[0mlen\u001b[0m\u001b[1;33m(\u001b[0m\u001b[0mjson\u001b[0m\u001b[1;33m.\u001b[0m\u001b[0mloads\u001b[0m\u001b[1;33m(\u001b[0m\u001b[0mserve_data\u001b[0m\u001b[1;33m(\u001b[0m\u001b[1;33m)\u001b[0m\u001b[1;33m)\u001b[0m\u001b[1;33m[\u001b[0m\u001b[1;34m\"data\"\u001b[0m\u001b[1;33m]\u001b[0m\u001b[1;33m)\u001b[0m\u001b[1;33m\u001b[0m\u001b[1;33m\u001b[0m\u001b[0m\n\u001b[0m",
      "\u001b[1;31mKeyError\u001b[0m: 'data'"
     ]
    }
   ],
   "source": [
    "AM_TZ = tz.gettz(\"Asia/Yerevan\")\n",
    "TASK_REVEAL = datetime(2023, 2, 10, 19, 0, tzinfo = AM_TZ)\n",
    "ACCEPTING_SUBMISSIONS = datetime(2023, 2, 11, 17, 40, tzinfo = AM_TZ)\n",
    "END_OF_SUBMISSIONS = datetime(2023, 2, 11, 18, 15, tzinfo = AM_TZ)\n",
    "eval_df = dataframe.copy()\n",
    "\n",
    "def serve_data():\n",
    "    \"\"\"This is the endpoint used by participants to fetch evaluation data. \n",
    "    (No labels will be sent out)\"\"\"\n",
    "    \n",
    "    այժմ = datetime.now().astimezone(AM_TZ)\n",
    "    \n",
    "    \n",
    "    if այժմ < TASK_REVEAL:\n",
    "        return json.dumps({\"message\": \"I value your perspicacity and interest, \" + \\\n",
    "            \"but the task is not yet revealed.\"})\n",
    "    else:\n",
    "        if այժմ > END_OF_SUBMISSIONS:\n",
    "            return json.dumps({\"message\": \"The datathon has ended :( \\n\" + \\\n",
    "                \"Contact Mher Movsisyan if you think this is a mistake.\"})\n",
    "        \n",
    "        if այժմ < ACCEPTING_SUBMISSIONS:\n",
    "            return json.dumps({\n",
    "                \"data\": eval_df.loc[250:350].X.to_list(), \n",
    "                \"message\": \"This is not all the data, once the submission process\" + \\\n",
    "                    \" begins you will be given a larger dataset through this endpoint.\"})\n",
    "            \n",
    "        return json.dumps({\n",
    "            \"data\": eval_df.X.to_list(), \n",
    "            \"message\": \"Good luck!\"})\n",
    "        \n",
    "print(json.loads(serve_data())[\"message\"])\n",
    "len(json.loads(serve_data())[\"data\"])"
   ]
  },
  {
   "cell_type": "code",
   "execution_count": 44,
   "metadata": {},
   "outputs": [
    {
     "data": {
      "text/plain": [
       "datetime.datetime(2023, 2, 10, 19, 1, tzinfo=tzfile('Asia/Yerevan'))"
      ]
     },
     "execution_count": 44,
     "metadata": {},
     "output_type": "execute_result"
    }
   ],
   "source": [
    "datetime(2023, 2, 10, 19, 1, tzinfo = AM_TZ)"
   ]
  },
  {
   "cell_type": "code",
   "execution_count": 61,
   "metadata": {},
   "outputs": [],
   "source": [
    "client = gspread.authorize(CREDS)\n",
    "wb = client.open(SCOREBOARD_DS_NAME)\n",
    "\n",
    "# get teams and their participants\n",
    "teamsheet = wb.worksheet(\"teams\")\n",
    "teams_df = pd.DataFrame(teamsheet.get_all_records())\n",
    "    \n",
    "# teams_df.to_pickle(TEAMBOARD_PATH)\n",
    "teams_df;"
   ]
  },
  {
   "cell_type": "code",
   "execution_count": 58,
   "metadata": {},
   "outputs": [],
   "source": [
    "for i, team, name, password in teams_df.itertuples():\n",
    "    team_passwords[team] += [password]"
   ]
  },
  {
   "cell_type": "code",
   "execution_count": 60,
   "metadata": {},
   "outputs": [],
   "source": [
    "team_passwords;"
   ]
  },
  {
   "cell_type": "code",
   "execution_count": 69,
   "metadata": {},
   "outputs": [
    {
     "data": {
      "text/html": [
       "<div>\n",
       "<style scoped>\n",
       "    .dataframe tbody tr th:only-of-type {\n",
       "        vertical-align: middle;\n",
       "    }\n",
       "\n",
       "    .dataframe tbody tr th {\n",
       "        vertical-align: top;\n",
       "    }\n",
       "\n",
       "    .dataframe thead th {\n",
       "        text-align: right;\n",
       "    }\n",
       "</style>\n",
       "<table border=\"1\" class=\"dataframe\">\n",
       "  <thead>\n",
       "    <tr style=\"text-align: right;\">\n",
       "      <th></th>\n",
       "      <th>Team</th>\n",
       "      <th>Score</th>\n",
       "      <th>Time</th>\n",
       "    </tr>\n",
       "  </thead>\n",
       "  <tbody>\n",
       "    <tr>\n",
       "      <th>0</th>\n",
       "      <td>Testers 2</td>\n",
       "      <td>55.2000</td>\n",
       "      <td>2023-02-05 17:11:39</td>\n",
       "    </tr>\n",
       "    <tr>\n",
       "      <th>1</th>\n",
       "      <td>Admins</td>\n",
       "      <td>0.7432</td>\n",
       "      <td>2023-02-05 21:09:28</td>\n",
       "    </tr>\n",
       "    <tr>\n",
       "      <th>2</th>\n",
       "      <td>Admins</td>\n",
       "      <td>0.7432</td>\n",
       "      <td>2023-02-05 21:11:21</td>\n",
       "    </tr>\n",
       "    <tr>\n",
       "      <th>3</th>\n",
       "      <td>Admins</td>\n",
       "      <td>0.7432</td>\n",
       "      <td>2023-02-05 21:12:08</td>\n",
       "    </tr>\n",
       "    <tr>\n",
       "      <th>4</th>\n",
       "      <td>Admins</td>\n",
       "      <td>0.7432</td>\n",
       "      <td>2023-02-05 21:12:51</td>\n",
       "    </tr>\n",
       "    <tr>\n",
       "      <th>5</th>\n",
       "      <td>Admins</td>\n",
       "      <td>0.7432</td>\n",
       "      <td>2023-02-05 21:13:53</td>\n",
       "    </tr>\n",
       "    <tr>\n",
       "      <th>6</th>\n",
       "      <td>Admins</td>\n",
       "      <td>0.7432</td>\n",
       "      <td>2023-02-05 21:14:57</td>\n",
       "    </tr>\n",
       "    <tr>\n",
       "      <th>7</th>\n",
       "      <td>Admins</td>\n",
       "      <td>0.7432</td>\n",
       "      <td>2023-02-05 21:16:47</td>\n",
       "    </tr>\n",
       "    <tr>\n",
       "      <th>8</th>\n",
       "      <td>Admins</td>\n",
       "      <td>74.3200</td>\n",
       "      <td>2023-02-05 21:18:55</td>\n",
       "    </tr>\n",
       "  </tbody>\n",
       "</table>\n",
       "</div>"
      ],
      "text/plain": [
       "        Team    Score                 Time\n",
       "0  Testers 2  55.2000  2023-02-05 17:11:39\n",
       "1     Admins   0.7432  2023-02-05 21:09:28\n",
       "2     Admins   0.7432  2023-02-05 21:11:21\n",
       "3     Admins   0.7432  2023-02-05 21:12:08\n",
       "4     Admins   0.7432  2023-02-05 21:12:51\n",
       "5     Admins   0.7432  2023-02-05 21:13:53\n",
       "6     Admins   0.7432  2023-02-05 21:14:57\n",
       "7     Admins   0.7432  2023-02-05 21:16:47\n",
       "8     Admins  74.3200  2023-02-05 21:18:55"
      ]
     },
     "execution_count": 69,
     "metadata": {},
     "output_type": "execute_result"
    }
   ],
   "source": [
    "submissions = wb.worksheet(\"submissions\")\n",
    "score_df = pd.DataFrame(submissions.get_all_records())\n",
    "score_df.Score = score_df.Score.astype(\"float\")\n",
    "\n",
    "score_df"
   ]
  },
  {
   "cell_type": "code",
   "execution_count": 66,
   "metadata": {},
   "outputs": [
    {
     "data": {
      "text/html": [
       "<div>\n",
       "<style scoped>\n",
       "    .dataframe tbody tr th:only-of-type {\n",
       "        vertical-align: middle;\n",
       "    }\n",
       "\n",
       "    .dataframe tbody tr th {\n",
       "        vertical-align: top;\n",
       "    }\n",
       "\n",
       "    .dataframe thead th {\n",
       "        text-align: right;\n",
       "    }\n",
       "</style>\n",
       "<table border=\"1\" class=\"dataframe\">\n",
       "  <thead>\n",
       "    <tr style=\"text-align: right;\">\n",
       "      <th></th>\n",
       "      <th>Team</th>\n",
       "      <th>Score</th>\n",
       "    </tr>\n",
       "  </thead>\n",
       "  <tbody>\n",
       "    <tr>\n",
       "      <th>0</th>\n",
       "      <td>Admins</td>\n",
       "      <td>74.32</td>\n",
       "    </tr>\n",
       "    <tr>\n",
       "      <th>1</th>\n",
       "      <td>Testers 2</td>\n",
       "      <td>55.20</td>\n",
       "    </tr>\n",
       "  </tbody>\n",
       "</table>\n",
       "</div>"
      ],
      "text/plain": [
       "        Team  Score\n",
       "0     Admins  74.32\n",
       "1  Testers 2  55.20"
      ]
     },
     "execution_count": 66,
     "metadata": {},
     "output_type": "execute_result"
    }
   ],
   "source": [
    "# Get the maximum per team\n",
    "team_max = score_df.groupby(\"Team\").max(\"Score\").reset_index()\n",
    "team_max"
   ]
  },
  {
   "cell_type": "code",
   "execution_count": 67,
   "metadata": {},
   "outputs": [],
   "source": [
    "score_df = score_df[score_df[[\"Team\", \"Score\"]].isin(team_max).all(axis=1)]"
   ]
  },
  {
   "cell_type": "code",
   "execution_count": 73,
   "metadata": {},
   "outputs": [
    {
     "data": {
      "text/html": [
       "<div>\n",
       "<style scoped>\n",
       "    .dataframe tbody tr th:only-of-type {\n",
       "        vertical-align: middle;\n",
       "    }\n",
       "\n",
       "    .dataframe tbody tr th {\n",
       "        vertical-align: top;\n",
       "    }\n",
       "\n",
       "    .dataframe thead th {\n",
       "        text-align: right;\n",
       "    }\n",
       "</style>\n",
       "<table border=\"1\" class=\"dataframe\">\n",
       "  <thead>\n",
       "    <tr style=\"text-align: right;\">\n",
       "      <th></th>\n",
       "      <th>Team</th>\n",
       "      <th>Score</th>\n",
       "    </tr>\n",
       "  </thead>\n",
       "  <tbody>\n",
       "    <tr>\n",
       "      <th>0</th>\n",
       "      <td>False</td>\n",
       "      <td>False</td>\n",
       "    </tr>\n",
       "    <tr>\n",
       "      <th>1</th>\n",
       "      <td>False</td>\n",
       "      <td>False</td>\n",
       "    </tr>\n",
       "    <tr>\n",
       "      <th>2</th>\n",
       "      <td>False</td>\n",
       "      <td>False</td>\n",
       "    </tr>\n",
       "    <tr>\n",
       "      <th>3</th>\n",
       "      <td>False</td>\n",
       "      <td>False</td>\n",
       "    </tr>\n",
       "    <tr>\n",
       "      <th>4</th>\n",
       "      <td>False</td>\n",
       "      <td>False</td>\n",
       "    </tr>\n",
       "    <tr>\n",
       "      <th>5</th>\n",
       "      <td>False</td>\n",
       "      <td>False</td>\n",
       "    </tr>\n",
       "    <tr>\n",
       "      <th>6</th>\n",
       "      <td>False</td>\n",
       "      <td>False</td>\n",
       "    </tr>\n",
       "    <tr>\n",
       "      <th>7</th>\n",
       "      <td>False</td>\n",
       "      <td>False</td>\n",
       "    </tr>\n",
       "    <tr>\n",
       "      <th>8</th>\n",
       "      <td>False</td>\n",
       "      <td>False</td>\n",
       "    </tr>\n",
       "  </tbody>\n",
       "</table>\n",
       "</div>"
      ],
      "text/plain": [
       "    Team  Score\n",
       "0  False  False\n",
       "1  False  False\n",
       "2  False  False\n",
       "3  False  False\n",
       "4  False  False\n",
       "5  False  False\n",
       "6  False  False\n",
       "7  False  False\n",
       "8  False  False"
      ]
     },
     "execution_count": 73,
     "metadata": {},
     "output_type": "execute_result"
    }
   ],
   "source": [
    "score_df[[\"Team\", \"Score\"]].isin(team_max)"
   ]
  },
  {
   "cell_type": "code",
   "execution_count": 75,
   "metadata": {},
   "outputs": [
    {
     "data": {
      "text/plain": [
       "0  Team     Testers 2\n",
       "   Score         55.2\n",
       "1  Team        Admins\n",
       "   Score       0.7432\n",
       "2  Team        Admins\n",
       "   Score       0.7432\n",
       "3  Team        Admins\n",
       "   Score       0.7432\n",
       "4  Team        Admins\n",
       "   Score       0.7432\n",
       "5  Team        Admins\n",
       "   Score       0.7432\n",
       "6  Team        Admins\n",
       "   Score       0.7432\n",
       "7  Team        Admins\n",
       "   Score       0.7432\n",
       "8  Team        Admins\n",
       "   Score        74.32\n",
       "dtype: object"
      ]
     },
     "execution_count": 75,
     "metadata": {},
     "output_type": "execute_result"
    }
   ],
   "source": [
    "score_df[[\"Team\", \"Score\"]].stack().isin(team_max.stack().values).unstack()"
   ]
  },
  {
   "cell_type": "code",
   "execution_count": null,
   "metadata": {},
   "outputs": [],
   "source": [
    "# Sort\n",
    "score_df = score_df.sort_values(\"Score\", ascending=False)"
   ]
  }
 ],
 "metadata": {
  "kernelspec": {
   "display_name": "Python 3",
   "language": "python",
   "name": "python3"
  },
  "language_info": {
   "codemirror_mode": {
    "name": "ipython",
    "version": 3
   },
   "file_extension": ".py",
   "mimetype": "text/x-python",
   "name": "python",
   "nbconvert_exporter": "python",
   "pygments_lexer": "ipython3",
   "version": "3.10.1"
  },
  "orig_nbformat": 4,
  "vscode": {
   "interpreter": {
    "hash": "26de051ba29f2982a8de78e945f0abaf191376122a1563185a90213a26c5da77"
   }
  }
 },
 "nbformat": 4,
 "nbformat_minor": 2
}
