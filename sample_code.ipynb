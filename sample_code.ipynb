{
 "cells": [
  {
   "attachments": {},
   "cell_type": "markdown",
   "metadata": {},
   "source": [
    "# Some sample API calls"
   ]
  },
  {
   "attachments": {},
   "cell_type": "markdown",
   "metadata": {},
   "source": [
    "Getting information about the API"
   ]
  },
  {
   "cell_type": "code",
   "execution_count": 6,
   "metadata": {},
   "outputs": [
    {
     "name": "stdout",
     "output_type": "stream",
     "text": [
      "To submit your results, make a POST request to the \"/d2023/accuracy\"\n",
      "        endpoint with a JSON object containing the keys `predictions`, `team`, `auth_token`. The \n",
      "        value of `predictions` is a list of model outputs. Don't alter the order of the eval data. \n",
      "        You can access the evaluation data by sending a GET request to \"/d2023/data\".\n",
      "\n",
      "        Sample request body:\n",
      "        {\n",
      "            \"predictions\": [0,0,1,1,0,1,...,1,0,0,1],\n",
      "            \"team\": \"Conquerors\",\n",
      "            \"auth_token\": \"secret_token\"\n",
      "        }\n",
      "        \n",
      "        \n"
     ]
    }
   ],
   "source": [
    "import requests\n",
    "\n",
    "DEBUG = True\n",
    "\n",
    "HOST = \"http://127.0.0.1:5000/\" if DEBUG else \"https://www.movsisyan.info/\"\n",
    "\n",
    "response = requests.get(HOST + \"d2023\").json()\n",
    "print(response[\"message\"])"
   ]
  },
  {
   "attachments": {},
   "cell_type": "markdown",
   "metadata": {},
   "source": [
    "---"
   ]
  },
  {
   "attachments": {},
   "cell_type": "markdown",
   "metadata": {},
   "source": [
    "Fetching the evaluation dataset"
   ]
  },
  {
   "cell_type": "code",
   "execution_count": 12,
   "metadata": {},
   "outputs": [
    {
     "name": "stdout",
     "output_type": "stream",
     "text": [
      "Good luck!\n"
     ]
    }
   ],
   "source": [
    "response = requests.get(HOST + \"d2023/data\").json()\n",
    "print(response[\"message\"])"
   ]
  },
  {
   "attachments": {},
   "cell_type": "markdown",
   "metadata": {},
   "source": [
    "---"
   ]
  },
  {
   "attachments": {},
   "cell_type": "markdown",
   "metadata": {},
   "source": [
    "What will the eval data look like?"
   ]
  },
  {
   "cell_type": "code",
   "execution_count": 13,
   "metadata": {},
   "outputs": [],
   "source": [
    "# When the datathon starts, you will be able to access data through this:\n",
    "response[\"data\"];"
   ]
  },
  {
   "attachments": {},
   "cell_type": "markdown",
   "metadata": {},
   "source": [
    "This will be a list of observations.  \n",
    "\n",
    "---"
   ]
  },
  {
   "attachments": {},
   "cell_type": "markdown",
   "metadata": {},
   "source": [
    "### Submitting predictions"
   ]
  },
  {
   "cell_type": "code",
   "execution_count": 14,
   "metadata": {},
   "outputs": [
    {
     "data": {
      "text/plain": [
       "{'accuracy': '49.571',\n",
       " 'message': 'Success. This will be reflected in the scoreboard.',\n",
       " 'team': 'Admins'}"
      ]
     },
     "execution_count": 14,
     "metadata": {},
     "output_type": "execute_result"
    }
   ],
   "source": [
    "import numpy as np\n",
    "\n",
    "# generating random predictions\n",
    "predicted_labels = [np.random.randint(0, 2) for _ in range(len(response[\"data\"]))]\n",
    "\n",
    "response = requests.post(HOST + \"d2023/accuracy\", json={\n",
    "        \"predictions\": predicted_labels,\n",
    "        \"team\": \"Admins\",\n",
    "        \"auth_token\": \"qw13\"\n",
    "    })\n",
    "\n",
    "response.json()"
   ]
  },
  {
   "attachments": {},
   "cell_type": "markdown",
   "metadata": {},
   "source": [
    "- Make sure to post the class prediction instead of the probability!\n",
    "- Don't shuffle the evaluation dataset!\n",
    "- Don't train or tune your model on the evaluation dataset!\n",
    "- Use HTTPS when talking to the API!"
   ]
  },
  {
   "cell_type": "markdown",
   "metadata": {},
   "source": []
  }
 ],
 "metadata": {
  "kernelspec": {
   "display_name": "Python 3",
   "language": "python",
   "name": "python3"
  },
  "language_info": {
   "codemirror_mode": {
    "name": "ipython",
    "version": 3
   },
   "file_extension": ".py",
   "mimetype": "text/x-python",
   "name": "python",
   "nbconvert_exporter": "python",
   "pygments_lexer": "ipython3",
   "version": "3.10.1"
  },
  "orig_nbformat": 4,
  "vscode": {
   "interpreter": {
    "hash": "26de051ba29f2982a8de78e945f0abaf191376122a1563185a90213a26c5da77"
   }
  }
 },
 "nbformat": 4,
 "nbformat_minor": 2
}
